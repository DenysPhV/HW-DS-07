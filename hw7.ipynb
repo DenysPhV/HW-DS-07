{
 "cells": [
  {
   "cell_type": "code",
   "execution_count": 1,
   "id": "36f60063-eca0-43ce-91b7-12ad13efac56",
   "metadata": {},
   "outputs": [
    {
     "name": "stdout",
     "output_type": "stream",
     "text": [
      "Collecting scikit-surprise\n",
      "  Using cached scikit-surprise-1.1.3.tar.gz (771 kB)\n",
      "  Installing build dependencies: started\n",
      "  Installing build dependencies: finished with status 'done'\n",
      "  Getting requirements to build wheel: started\n",
      "  Getting requirements to build wheel: finished with status 'error'\n"
     ]
    },
    {
     "name": "stderr",
     "output_type": "stream",
     "text": [
      "  error: subprocess-exited-with-error\n",
      "  \n",
      "  Getting requirements to build wheel did not run successfully.\n",
      "  exit code: 1\n",
      "  \n",
      "  [59 lines of output]\n",
      "  <string>:65: _DeprecatedInstaller: setuptools.installer and fetch_build_eggs are deprecated.\n",
      "  !!\n",
      "  \n",
      "          ********************************************************************************\n",
      "          Requirements should be satisfied by a PEP 517 installer.\n",
      "          If you are using pip, you can try `pip install --use-pep517`.\n",
      "          ********************************************************************************\n",
      "  \n",
      "  !!\n",
      "  C:\\Users\\User\\AppData\\Local\\Programs\\Python\\Python311\\python.exe: No module named pip\n",
      "  Traceback (most recent call last):\n",
      "    File \"C:\\Users\\User\\AppData\\Local\\Temp\\pip-build-env-4c6z5fuf\\overlay\\Lib\\site-packages\\setuptools\\installer.py\", line 101, in _fetch_build_egg_no_warn\n",
      "      subprocess.check_call(cmd)\n",
      "    File \"C:\\Users\\User\\AppData\\Local\\Programs\\Python\\Python311\\Lib\\subprocess.py\", line 413, in check_call\n",
      "      raise CalledProcessError(retcode, cmd)\n",
      "  subprocess.CalledProcessError: Command '['C:\\\\Users\\\\User\\\\AppData\\\\Local\\\\Programs\\\\Python\\\\Python311\\\\python.exe', '-m', 'pip', '--disable-pip-version-check', 'wheel', '--no-deps', '-w', 'C:\\\\Users\\\\User\\\\AppData\\\\Local\\\\Temp\\\\tmpp5le17ir', '--quiet', 'numpy>=1.17.3']' returned non-zero exit status 1.\n",
      "  \n",
      "  The above exception was the direct cause of the following exception:\n",
      "  \n",
      "  Traceback (most recent call last):\n",
      "    File \"C:\\Users\\User\\AppData\\Local\\Programs\\Python\\Python311\\Lib\\site-packages\\pip\\_vendor\\pyproject_hooks\\_in_process\\_in_process.py\", line 353, in <module>\n",
      "      main()\n",
      "    File \"C:\\Users\\User\\AppData\\Local\\Programs\\Python\\Python311\\Lib\\site-packages\\pip\\_vendor\\pyproject_hooks\\_in_process\\_in_process.py\", line 335, in main\n",
      "      json_out['return_val'] = hook(**hook_input['kwargs'])\n",
      "                               ^^^^^^^^^^^^^^^^^^^^^^^^^^^^\n",
      "    File \"C:\\Users\\User\\AppData\\Local\\Programs\\Python\\Python311\\Lib\\site-packages\\pip\\_vendor\\pyproject_hooks\\_in_process\\_in_process.py\", line 118, in get_requires_for_build_wheel\n",
      "      return hook(config_settings)\n",
      "             ^^^^^^^^^^^^^^^^^^^^^\n",
      "    File \"C:\\Users\\User\\AppData\\Local\\Temp\\pip-build-env-4c6z5fuf\\overlay\\Lib\\site-packages\\setuptools\\build_meta.py\", line 355, in get_requires_for_build_wheel\n",
      "      return self._get_build_requires(config_settings, requirements=['wheel'])\n",
      "             ^^^^^^^^^^^^^^^^^^^^^^^^^^^^^^^^^^^^^^^^^^^^^^^^^^^^^^^^^^^^^^^^^\n",
      "    File \"C:\\Users\\User\\AppData\\Local\\Temp\\pip-build-env-4c6z5fuf\\overlay\\Lib\\site-packages\\setuptools\\build_meta.py\", line 325, in _get_build_requires\n",
      "      self.run_setup()\n",
      "    File \"C:\\Users\\User\\AppData\\Local\\Temp\\pip-build-env-4c6z5fuf\\overlay\\Lib\\site-packages\\setuptools\\build_meta.py\", line 507, in run_setup\n",
      "      super(_BuildMetaLegacyBackend, self).run_setup(setup_script=setup_script)\n",
      "    File \"C:\\Users\\User\\AppData\\Local\\Temp\\pip-build-env-4c6z5fuf\\overlay\\Lib\\site-packages\\setuptools\\build_meta.py\", line 341, in run_setup\n",
      "      exec(code, locals())\n",
      "    File \"<string>\", line 65, in <module>\n",
      "    File \"C:\\Users\\User\\AppData\\Local\\Temp\\pip-build-env-4c6z5fuf\\overlay\\Lib\\site-packages\\setuptools\\dist.py\", line 662, in fetch_build_eggs\n",
      "      return _fetch_build_eggs(self, requires)\n",
      "             ^^^^^^^^^^^^^^^^^^^^^^^^^^^^^^^^^\n",
      "    File \"C:\\Users\\User\\AppData\\Local\\Temp\\pip-build-env-4c6z5fuf\\overlay\\Lib\\site-packages\\setuptools\\installer.py\", line 38, in _fetch_build_eggs\n",
      "      resolved_dists = pkg_resources.working_set.resolve(\n",
      "                       ^^^^^^^^^^^^^^^^^^^^^^^^^^^^^^^^^^\n",
      "    File \"C:\\Users\\User\\AppData\\Local\\Temp\\pip-build-env-4c6z5fuf\\overlay\\Lib\\site-packages\\pkg_resources\\__init__.py\", line 829, in resolve\n",
      "      dist = self._resolve_dist(\n",
      "             ^^^^^^^^^^^^^^^^^^^\n",
      "    File \"C:\\Users\\User\\AppData\\Local\\Temp\\pip-build-env-4c6z5fuf\\overlay\\Lib\\site-packages\\pkg_resources\\__init__.py\", line 865, in _resolve_dist\n",
      "      dist = best[req.key] = env.best_match(\n",
      "                             ^^^^^^^^^^^^^^^\n",
      "    File \"C:\\Users\\User\\AppData\\Local\\Temp\\pip-build-env-4c6z5fuf\\overlay\\Lib\\site-packages\\pkg_resources\\__init__.py\", line 1135, in best_match\n",
      "      return self.obtain(req, installer)\n",
      "             ^^^^^^^^^^^^^^^^^^^^^^^^^^^\n",
      "    File \"C:\\Users\\User\\AppData\\Local\\Temp\\pip-build-env-4c6z5fuf\\overlay\\Lib\\site-packages\\pkg_resources\\__init__.py\", line 1147, in obtain\n",
      "      return installer(requirement)\n",
      "             ^^^^^^^^^^^^^^^^^^^^^^\n",
      "    File \"C:\\Users\\User\\AppData\\Local\\Temp\\pip-build-env-4c6z5fuf\\overlay\\Lib\\site-packages\\setuptools\\installer.py\", line 103, in _fetch_build_egg_no_warn\n",
      "      raise DistutilsError(str(e)) from e\n",
      "  distutils.errors.DistutilsError: Command '['C:\\\\Users\\\\User\\\\AppData\\\\Local\\\\Programs\\\\Python\\\\Python311\\\\python.exe', '-m', 'pip', '--disable-pip-version-check', 'wheel', '--no-deps', '-w', 'C:\\\\Users\\\\User\\\\AppData\\\\Local\\\\Temp\\\\tmpp5le17ir', '--quiet', 'numpy>=1.17.3']' returned non-zero exit status 1.\n",
      "  [end of output]\n",
      "  \n",
      "  note: This error originates from a subprocess, and is likely not a problem with pip.\n",
      "error: subprocess-exited-with-error\n",
      "\n",
      "Getting requirements to build wheel did not run successfully.\n",
      "exit code: 1\n",
      "\n",
      "See above for output.\n",
      "\n",
      "note: This error originates from a subprocess, and is likely not a problem with pip.\n"
     ]
    }
   ],
   "source": [
    "!pip install scikit-surprise"
   ]
  },
  {
   "cell_type": "code",
   "execution_count": null,
   "id": "0e5af57b-95ca-43f5-9fd5-56a3119ac20b",
   "metadata": {},
   "outputs": [],
   "source": [
    "import pandas as pd\n",
    "from surprise import SVD, SVDpp, NMF\n",
    "from surprise import Dataset\n",
    "from surprise import Reader\n",
    "from surprise.model_selection import cross_validate, GridSearchCV"
   ]
  },
  {
   "cell_type": "code",
   "execution_count": 2,
   "id": "5e5f104d-ae51-4b0f-9fed-bb8da0251e34",
   "metadata": {},
   "outputs": [
    {
     "ename": "NameError",
     "evalue": "name 'Reader' is not defined",
     "output_type": "error",
     "traceback": [
      "\u001b[1;31m---------------------------------------------------------------------------\u001b[0m",
      "\u001b[1;31mNameError\u001b[0m                                 Traceback (most recent call last)",
      "Cell \u001b[1;32mIn[2], line 1\u001b[0m\n\u001b[1;32m----> 1\u001b[0m reader \u001b[38;5;241m=\u001b[39m \u001b[43mReader\u001b[49m(line_format\u001b[38;5;241m=\u001b[39m\u001b[38;5;124m'\u001b[39m\u001b[38;5;124muser item rating timestamp\u001b[39m\u001b[38;5;124m'\u001b[39m, sep\u001b[38;5;241m=\u001b[39m\u001b[38;5;124m'\u001b[39m\u001b[38;5;130;01m\\t\u001b[39;00m\u001b[38;5;124m'\u001b[39m)\n\u001b[0;32m      2\u001b[0m data \u001b[38;5;241m=\u001b[39m Dataset\u001b[38;5;241m.\u001b[39mload_from_file(\u001b[38;5;124m'\u001b[39m\u001b[38;5;124mml-100k/u.data\u001b[39m\u001b[38;5;124m'\u001b[39m, reader\u001b[38;5;241m=\u001b[39mreader)\n",
      "\u001b[1;31mNameError\u001b[0m: name 'Reader' is not defined"
     ]
    }
   ],
   "source": [
    "data = Dataset.load_builtin('ml-100k')"
   ]
  },
  {
   "cell_type": "code",
   "execution_count": null,
   "id": "60cb71f6-4c31-4765-8576-05faccba80c5",
   "metadata": {},
   "outputs": [],
   "source": [
    "# Приклад використання SVD\n",
    "model_svd = SVD()\n",
    "result = cross_validate(model_svd, data, measures=['RMSE', 'MAE'], cv=10, verbose=True)\n",
    "SVD_result = pd.DataFrame.from_dict(result).mean(axis=0)"
   ]
  },
  {
   "cell_type": "code",
   "execution_count": null,
   "id": "5fc88f05-206a-4009-83c2-6564c6685841",
   "metadata": {},
   "outputs": [],
   "source": [
    "# Приклад крос-валідації та налаштування параметрів для SVD++\n",
    "model_svdpp = SVDpp()\n",
    "result_svdpp = cross_validate(model_svdpp, data, measures=['RMSE', 'MAE'], cv=10, verbose=True)\n",
    "SVDPP_result = pd.DataFrame.from_dict(result_svdpp).mean(axis=0)"
   ]
  },
  {
   "cell_type": "code",
   "execution_count": null,
   "id": "1533e719-587b-429d-a475-581e5ac80751",
   "metadata": {},
   "outputs": [],
   "source": [
    "# Приклад колаборативної фільтрації на основі факторизації невід'ємних матриць\n",
    "model_nmf = NMF()\n",
    "result_nmf = cross_validate(model_nmf, data, measures=['RMSE', 'MAE'], cv=10, verbose=True)\n",
    "NMF_result = pd.DataFrame.from_dict(result_nmf).mean(axis=0)"
   ]
  },
  {
   "cell_type": "code",
   "execution_count": null,
   "id": "896b3d38-478c-4514-ac2d-7769e0aa2795",
   "metadata": {},
   "outputs": [],
   "source": [
    "# Отримання результату тестів\n",
    "Final_result = pd.DataFrame(columns=['SVD', 'SVDpp', 'NMF'])\n",
    "\n",
    "Final_result['SVD'] = SVD_result\n",
    "Final_result['SVDpp'] = SVDPP_result\n",
    "Final_result['NMF'] = NMF_result\n",
    "\n",
    "Final_result"
   ]
  },
  {
   "cell_type": "code",
   "execution_count": null,
   "id": "0dfaaa35-4255-44ba-80d1-ce5e8c62b0e1",
   "metadata": {},
   "outputs": [],
   "source": [
    "# Створюємо графік для порівняння RMSE\n",
    "plt.figure(figsize=(6, 4))\n",
    "plt.bar(Final_result.columns, Final_result.loc['test_rmse'], color=['blue', 'green', 'red'])\n",
    "plt.title('Porównanie RMSE')\n",
    "plt.ylabel('RMSE')\n",
    "plt.show()\n",
    "\n",
    "# Створюємо графік для порівняння MAE\n",
    "plt.figure(figsize=(6, 4))\n",
    "plt.bar(Final_result.columns, Final_result.loc['test_mae'], color=['blue', 'green', 'red'])\n",
    "plt.title('Porównanie MAE')\n",
    "plt.ylabel('MAE')\n",
    "plt.show()"
   ]
  },
  {
   "cell_type": "code",
   "execution_count": null,
   "id": "192f4bb9-8e59-41b1-85f8-ae0ecc3ef4f2",
   "metadata": {},
   "outputs": [],
   "source": [
    "Зважаючи на ці результати, SVD++ може бути найкращим варіантом для рекомендацій на даних з Movielens.\n",
    "Однак вибір алгоритму також залежить від конкретних вимог і контексту задачі."
   ]
  }
 ],
 "metadata": {
  "kernelspec": {
   "display_name": "Python 3 (ipykernel)",
   "language": "python",
   "name": "python3"
  },
  "language_info": {
   "codemirror_mode": {
    "name": "ipython",
    "version": 3
   },
   "file_extension": ".py",
   "mimetype": "text/x-python",
   "name": "python",
   "nbconvert_exporter": "python",
   "pygments_lexer": "ipython3",
   "version": "3.11.3"
  }
 },
 "nbformat": 4,
 "nbformat_minor": 5
}
